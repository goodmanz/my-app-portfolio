{
  "nbformat": 4,
  "nbformat_minor": 0,
  "metadata": {
    "colab": {
      "provenance": [],
      "include_colab_link": true
    },
    "kernelspec": {
      "name": "python3",
      "display_name": "Python 3"
    },
    "language_info": {
      "name": "python"
    }
  },
  "cells": [
    {
      "cell_type": "markdown",
      "metadata": {
        "id": "view-in-github",
        "colab_type": "text"
      },
      "source": [
        "<a href=\"https://colab.research.google.com/github/goodmanz/my-app-portfolio/blob/master/Trans_docx-2-English_with_structure.ipynb\" target=\"_parent\"><img src=\"https://colab.research.google.com/assets/colab-badge.svg\" alt=\"Open In Colab\"/></a>"
      ]
    },
    {
      "cell_type": "code",
      "execution_count": null,
      "metadata": {
        "colab": {
          "base_uri": "https://localhost:8080/"
        },
        "id": "4sl0jJK87u4N",
        "outputId": "52e06a2f-b190-4aae-c78b-53c9d91f7b88"
      },
      "outputs": [
        {
          "output_type": "stream",
          "name": "stdout",
          "text": [
            "Requirement already satisfied: docx2txt in /usr/local/lib/python3.10/dist-packages (0.8)\n",
            "Requirement already satisfied: googletrans==3.1.0a0 in /usr/local/lib/python3.10/dist-packages (3.1.0a0)\n",
            "Requirement already satisfied: httpx==0.13.3 in /usr/local/lib/python3.10/dist-packages (from googletrans==3.1.0a0) (0.13.3)\n",
            "Requirement already satisfied: certifi in /usr/local/lib/python3.10/dist-packages (from httpx==0.13.3->googletrans==3.1.0a0) (2024.7.4)\n",
            "Requirement already satisfied: hstspreload in /usr/local/lib/python3.10/dist-packages (from httpx==0.13.3->googletrans==3.1.0a0) (2024.7.1)\n",
            "Requirement already satisfied: sniffio in /usr/local/lib/python3.10/dist-packages (from httpx==0.13.3->googletrans==3.1.0a0) (1.3.1)\n",
            "Requirement already satisfied: chardet==3.* in /usr/local/lib/python3.10/dist-packages (from httpx==0.13.3->googletrans==3.1.0a0) (3.0.4)\n",
            "Requirement already satisfied: idna==2.* in /usr/local/lib/python3.10/dist-packages (from httpx==0.13.3->googletrans==3.1.0a0) (2.10)\n",
            "Requirement already satisfied: rfc3986<2,>=1.3 in /usr/local/lib/python3.10/dist-packages (from httpx==0.13.3->googletrans==3.1.0a0) (1.5.0)\n",
            "Requirement already satisfied: httpcore==0.9.* in /usr/local/lib/python3.10/dist-packages (from httpx==0.13.3->googletrans==3.1.0a0) (0.9.1)\n",
            "Requirement already satisfied: h11<0.10,>=0.8 in /usr/local/lib/python3.10/dist-packages (from httpcore==0.9.*->httpx==0.13.3->googletrans==3.1.0a0) (0.9.0)\n",
            "Requirement already satisfied: h2==3.* in /usr/local/lib/python3.10/dist-packages (from httpcore==0.9.*->httpx==0.13.3->googletrans==3.1.0a0) (3.2.0)\n",
            "Requirement already satisfied: hyperframe<6,>=5.2.0 in /usr/local/lib/python3.10/dist-packages (from h2==3.*->httpcore==0.9.*->httpx==0.13.3->googletrans==3.1.0a0) (5.2.0)\n",
            "Requirement already satisfied: hpack<4,>=3.0 in /usr/local/lib/python3.10/dist-packages (from h2==3.*->httpcore==0.9.*->httpx==0.13.3->googletrans==3.1.0a0) (3.0.0)\n",
            "Requirement already satisfied: python-docx in /usr/local/lib/python3.10/dist-packages (1.1.2)\n",
            "Requirement already satisfied: lxml>=3.1.0 in /usr/local/lib/python3.10/dist-packages (from python-docx) (4.9.4)\n",
            "Requirement already satisfied: typing-extensions>=4.9.0 in /usr/local/lib/python3.10/dist-packages (from python-docx) (4.12.2)\n",
            "Current working directory: /content\n",
            "Drive already mounted at /content/gdrive; to attempt to forcibly remount, call drive.mount(\"/content/gdrive\", force_remount=True).\n"
          ]
        }
      ],
      "source": [
        "# prompt: translate a word document to english\n",
        "\n",
        "!pip install docx2txt\n",
        "!pip install googletrans==3.1.0a0\n",
        "!pip install python-docx\n",
        "\n",
        "\n",
        "import os\n",
        "#import docx2txt\n",
        "from googletrans import Translator\n",
        "from google.colab import drive\n",
        "from docx import Document\n",
        "\n",
        "# fucntion\n",
        "def translate_document(input_file, output_file, target_lang):\n",
        "    # Load the document\n",
        "    doc = Document(input_file)\n",
        "\n",
        "    # Initialize the translator\n",
        "    translator = Translator()\n",
        "\n",
        "    # Function to translate text\n",
        "    def translate_text(text, target_lang):\n",
        "        try:\n",
        "            translated = translator.translate(text, dest=target_lang)\n",
        "            return translated.text\n",
        "        except Exception as e:\n",
        "            print(f\"Error translating text: {e}\")\n",
        "            return text\n",
        "\n",
        "    # Traverse paragraphs\n",
        "    for para in doc.paragraphs:\n",
        "        if para.text.strip():\n",
        "            translated_text = translate_text(para.text, target_lang)\n",
        "            para.clear()  # Clear the original paragraph text\n",
        "            para.add_run(translated_text)  # Add translated text\n",
        "\n",
        "    # Traverse tables\n",
        "    for table in doc.tables:\n",
        "        for row in table.rows:\n",
        "            for cell in row.cells:\n",
        "                if cell.text.strip():\n",
        "                    translated_text = translate_text(cell.text, target_lang)\n",
        "                    cell.text = translated_text\n",
        "\n",
        "    # Save the translated document\n",
        "    doc.save(output_file)\n",
        "\n",
        "# Example usage\n",
        "\n",
        "print(\"Current working directory:\", os.getcwd())\n",
        "\n",
        "# mount google drive\n",
        "drive.mount('/content/gdrive')\n",
        "\n",
        "!touch \"/content/gdrive/My Drive/my_document.docx\"\n",
        "\n",
        "input_file = '/content/gdrive/My Drive/my_document.docx'  # Input file path\n",
        "output_file = '/content/gdrive/My Drive/my_document_output.docx'  # Output file path\n",
        "target_lang = 'en'  # Target language (e.g., 'es' for Spanish, 'en' for English)\n",
        "\n",
        "translate_document(input_file, output_file, target_lang)\n",
        "\n",
        "\n",
        "\n",
        "\n",
        "\n"
      ]
    },
    {
      "cell_type": "code",
      "source": [],
      "metadata": {
        "id": "TTnX5FBR_3YH"
      },
      "execution_count": null,
      "outputs": []
    }
  ]
}